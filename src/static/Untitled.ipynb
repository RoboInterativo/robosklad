{
 "cells": [
  {
   "cell_type": "code",
   "execution_count": 1,
   "id": "31de0208-16c3-4fa5-82ea-05f3a64571d9",
   "metadata": {},
   "outputs": [],
   "source": [
    "import pandas as pd"
   ]
  },
  {
   "cell_type": "code",
   "execution_count": 3,
   "id": "bcfc0b73-9089-4b29-8f4e-3d779ca6ed4e",
   "metadata": {},
   "outputs": [
    {
     "name": "stdout",
     "output_type": "stream",
     "text": [
      "Collecting openpyxl\n",
      "  Using cached openpyxl-3.1.5-py2.py3-none-any.whl.metadata (2.5 kB)\n",
      "Collecting et-xmlfile (from openpyxl)\n",
      "  Using cached et_xmlfile-2.0.0-py3-none-any.whl.metadata (2.7 kB)\n",
      "Using cached openpyxl-3.1.5-py2.py3-none-any.whl (250 kB)\n",
      "Using cached et_xmlfile-2.0.0-py3-none-any.whl (18 kB)\n",
      "Installing collected packages: et-xmlfile, openpyxl\n",
      "Successfully installed et-xmlfile-2.0.0 openpyxl-3.1.5\n"
     ]
    },
    {
     "name": "stderr",
     "output_type": "stream",
     "text": [
      "\n",
      "[notice] A new release of pip is available: 25.0.1 -> 25.1.1\n",
      "[notice] To update, run: python.exe -m pip install --upgrade pip\n"
     ]
    }
   ],
   "source": [
    "!pip install openpyxl\n"
   ]
  },
  {
   "cell_type": "code",
   "execution_count": 4,
   "id": "75713178-4451-407b-aa47-62705ff25229",
   "metadata": {},
   "outputs": [],
   "source": [
    "df =pd.read_excel('./Products_import.xlsx')"
   ]
  },
  {
   "cell_type": "code",
   "execution_count": 5,
   "id": "0d16c4da-d517-47c7-b9f5-0aee9047ec75",
   "metadata": {},
   "outputs": [
    {
     "data": {
      "text/html": [
       "<div>\n",
       "<style scoped>\n",
       "    .dataframe tbody tr th:only-of-type {\n",
       "        vertical-align: middle;\n",
       "    }\n",
       "\n",
       "    .dataframe tbody tr th {\n",
       "        vertical-align: top;\n",
       "    }\n",
       "\n",
       "    .dataframe thead th {\n",
       "        text-align: right;\n",
       "    }\n",
       "</style>\n",
       "<table border=\"1\" class=\"dataframe\">\n",
       "  <thead>\n",
       "    <tr style=\"text-align: right;\">\n",
       "      <th></th>\n",
       "      <th>Тип продукции</th>\n",
       "      <th>Наименование продукции</th>\n",
       "      <th>Артикул</th>\n",
       "      <th>Минимальная стоимость для партнера</th>\n",
       "    </tr>\n",
       "  </thead>\n",
       "  <tbody>\n",
       "    <tr>\n",
       "      <th>0</th>\n",
       "      <td>Паркетная доска</td>\n",
       "      <td>Паркетная доска Ясень темный однополосная 14 мм</td>\n",
       "      <td>8758385</td>\n",
       "      <td>4456.90</td>\n",
       "    </tr>\n",
       "    <tr>\n",
       "      <th>1</th>\n",
       "      <td>Паркетная доска</td>\n",
       "      <td>Инженерная доска Дуб Французская елка однополо...</td>\n",
       "      <td>8858958</td>\n",
       "      <td>7330.99</td>\n",
       "    </tr>\n",
       "    <tr>\n",
       "      <th>2</th>\n",
       "      <td>Ламинат</td>\n",
       "      <td>Ламинат Дуб дымчато-белый 33 класс 12 мм</td>\n",
       "      <td>7750282</td>\n",
       "      <td>1799.33</td>\n",
       "    </tr>\n",
       "    <tr>\n",
       "      <th>3</th>\n",
       "      <td>Ламинат</td>\n",
       "      <td>Ламинат Дуб серый 32 класс 8 мм с фаской</td>\n",
       "      <td>7028748</td>\n",
       "      <td>3890.41</td>\n",
       "    </tr>\n",
       "    <tr>\n",
       "      <th>4</th>\n",
       "      <td>Пробковое покрытие</td>\n",
       "      <td>Пробковое напольное клеевое покрытие 32 класс ...</td>\n",
       "      <td>5012543</td>\n",
       "      <td>5450.59</td>\n",
       "    </tr>\n",
       "  </tbody>\n",
       "</table>\n",
       "</div>"
      ],
      "text/plain": [
       "        Тип продукции                             Наименование продукции  \\\n",
       "0     Паркетная доска    Паркетная доска Ясень темный однополосная 14 мм   \n",
       "1     Паркетная доска  Инженерная доска Дуб Французская елка однополо...   \n",
       "2             Ламинат           Ламинат Дуб дымчато-белый 33 класс 12 мм   \n",
       "3             Ламинат           Ламинат Дуб серый 32 класс 8 мм с фаской   \n",
       "4  Пробковое покрытие  Пробковое напольное клеевое покрытие 32 класс ...   \n",
       "\n",
       "   Артикул  Минимальная стоимость для партнера  \n",
       "0  8758385                             4456.90  \n",
       "1  8858958                             7330.99  \n",
       "2  7750282                             1799.33  \n",
       "3  7028748                             3890.41  \n",
       "4  5012543                             5450.59  "
      ]
     },
     "execution_count": 5,
     "metadata": {},
     "output_type": "execute_result"
    }
   ],
   "source": [
    "df.to"
   ]
  }
 ],
 "metadata": {
  "kernelspec": {
   "display_name": "Python 3 (ipykernel)",
   "language": "python",
   "name": "python3"
  },
  "language_info": {
   "codemirror_mode": {
    "name": "ipython",
    "version": 3
   },
   "file_extension": ".py",
   "mimetype": "text/x-python",
   "name": "python",
   "nbconvert_exporter": "python",
   "pygments_lexer": "ipython3",
   "version": "3.13.3"
  }
 },
 "nbformat": 4,
 "nbformat_minor": 5
}
